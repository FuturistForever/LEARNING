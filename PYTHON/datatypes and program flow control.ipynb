{
  "cells": [
    {
      "cell_type": "markdown",
      "metadata": {
        "id": "NDf_MJB1pka-"
      },
      "source": [
        "## **Python Data Types and Program Flow Controls**\n",
        "\n",
        "---\n"
      ]
    },
    {
      "cell_type": "markdown",
      "metadata": {
        "id": "PH1XjJ88JFo6"
      },
      "source": [
        "---\n",
        "\n",
        "## **1. Data Types**\n",
        "\n",
        "1. Declare variables of type `int`, `float`, `complex`, `str`, `list`, `tuple`, `dict`, `set`, and `bool`. Print their values and data types.\n",
        "2. Take user input (string) and convert it into `int` and `float`. Print the results.\n",
        "3. Write a program to show the difference between a mutable type (list) and an immutable type (tuple).\n",
        "4. Create a dictionary with student details (name, age, grade). Print keys and values separately.\n",
        "5. Create a set of fruits with duplicates and show how Python automatically removes duplicates.\n",
        "\n"
      ]
    },
    {
      "cell_type": "code",
      "execution_count": null,
      "metadata": {},
      "outputs": [],
      "source": [
        "#data types\n",
        "num_int = 1\n",
        "num_float = 1.2\n",
        "num_complex = 2+3j\n",
        "str = \"bugopsX\"\n",
        "lst = [1,2,3,4,'bugOpsX']\n",
        "tup = (1,2,3,'tuple')\n",
        "word = {\"bugOpsX\":\"Github\"}\n",
        "set1 = [1,2,3,4,5]\n",
        "booL = True"
      ]
    },
    {
      "cell_type": "code",
      "execution_count": 1,
      "metadata": {},
      "outputs": [
        {
          "name": "stdout",
          "output_type": "stream",
          "text": [
            "Integer value: 44\n",
            "Float value: 44.0\n"
          ]
        }
      ],
      "source": [
        "#take user input and convert it into int and float\n",
        "user_input = input(\"Enter a number: \")\n",
        "int_value = int(user_input)\n",
        "float_value = float(user_input)\n",
        "\n",
        "print(\"Integer value:\", int_value)\n",
        "print(\"Float value:\", float_value)"
      ]
    },
    {
      "cell_type": "code",
      "execution_count": 2,
      "metadata": {},
      "outputs": [
        {
          "name": "stdout",
          "output_type": "stream",
          "text": [
            "[1, 2, 7, 5]\n",
            "(1, 2, 3, 5)\n"
          ]
        }
      ],
      "source": [
        "#mutable and immutable\n",
        "lst = [1,2,4,5]\n",
        "lst[2] = 7  #mutable\n",
        "print(lst)\n",
        "tup1 = (1,2,3,5)    #immutable\n",
        "print(tup1)"
      ]
    },
    {
      "cell_type": "code",
      "execution_count": 4,
      "metadata": {},
      "outputs": [
        {
          "name": "stdout",
          "output_type": "stream",
          "text": [
            "{'name': 'bugOpsX', 'age': '21', 'grade': 'A+'}\n"
          ]
        }
      ],
      "source": [
        "std = {\"name\":\"bugOpsX\", \"age\":\"21\",\"grade\":\"A+\"}\n",
        "print(std)"
      ]
    },
    {
      "cell_type": "code",
      "execution_count": 6,
      "metadata": {},
      "outputs": [
        {
          "name": "stdout",
          "output_type": "stream",
          "text": [
            "{'banana', 'apple'}\n"
          ]
        }
      ],
      "source": [
        "# fruits name\n",
        "fruits = {\"apple\", \"apple\", \"banana\", \"banana\"}\n",
        "print(fruits)"
      ]
    },
    {
      "cell_type": "markdown",
      "metadata": {},
      "source": [
        "---\n",
        "\n",
        "## **2. Declaring and Using Numeric & String Data Types**\n",
        "\n",
        "1. Declare an integer, float, and complex number. Perform addition, subtraction, multiplication, division, and modulus.\n",
        "2. Write a program that calculates the area of a rectangle (length × width).\n",
        "3. Store your name and course in string variables and print them using **f-string formatting**.\n",
        "4. Write a program to slice a string and print the first 3 and last 3 characters.\n",
        "5. Create a string `\"Python Programming\"` and perform:\n",
        "\n",
        "   * Convert to uppercase\n",
        "   * Convert to lowercase\n",
        "   * Replace `\"Python\"` with `\"Java\"`\n",
        "   * Split into words\n",
        "   * Join words with `-`\n"
      ]
    },
    {
      "cell_type": "code",
      "execution_count": null,
      "metadata": {},
      "outputs": [
        {
          "name": "stdout",
          "output_type": "stream",
          "text": [
            "(12+5j)\n"
          ]
        }
      ],
      "source": [
        "#sum of int, float, complex\n",
        "num_int = 5\n",
        "num_float = 4\n",
        "num_complex = 3+5j\n",
        "result = num_complex + num_float + num_int\n",
        "print(result)"
      ]
    },
    {
      "cell_type": "code",
      "execution_count": 10,
      "metadata": {},
      "outputs": [
        {
          "name": "stdout",
          "output_type": "stream",
          "text": [
            "7.5\n"
          ]
        }
      ],
      "source": [
        "#area of triangle\n",
        "base = 3\n",
        "height = 5\n",
        "area = 1/2*(base*height)\n",
        "print(area)\n"
      ]
    },
    {
      "cell_type": "code",
      "execution_count": 11,
      "metadata": {},
      "outputs": [
        {
          "name": "stdout",
          "output_type": "stream",
          "text": [
            " bugOpsX  BTech\n"
          ]
        }
      ],
      "source": [
        "#f'' string formatting\n",
        "name = 'bugOpsX'\n",
        "course = 'BTech'\n",
        "print(f\"\",name,\"\",course)"
      ]
    },
    {
      "cell_type": "code",
      "execution_count": 12,
      "metadata": {},
      "outputs": [
        {
          "name": "stdout",
          "output_type": "stream",
          "text": [
            "First 3 characters: cro\n",
            "Last 3 characters: ile\n"
          ]
        }
      ],
      "source": [
        "#string slicing\n",
        "text = input(\"Enter a string: \")\n",
        "first_three = text[:3]\n",
        "last_three = text[-3:]\n",
        "print(\"First 3 characters:\", first_three)\n",
        "print(\"Last 3 characters:\", last_three)"
      ]
    },
    {
      "cell_type": "code",
      "execution_count": 15,
      "metadata": {},
      "outputs": [
        {
          "name": "stdout",
          "output_type": "stream",
          "text": [
            "Uppercase: PYTHON PROGRAMMING\n",
            "Lowercase: python programming\n",
            "Replaced: Java Programming\n",
            "Split into words: ['Python', 'Programming']\n",
            "Joined with '-': Python Programming\n"
          ]
        }
      ],
      "source": [
        "text = \"Python Programming\"\n",
        "\n",
        "# Convert to uppercase\n",
        "upper_text = text.upper()\n",
        "print(\"Uppercase:\", upper_text)\n",
        "\n",
        "# Convert to lowercase\n",
        "lower_text = text.lower()\n",
        "print(\"Lowercase:\", lower_text)\n",
        "\n",
        "# Replace \"Python\" with \"Java\"\n",
        "replaced_text = text.replace(\"Python\", \"Java\")\n",
        "print(\"Replaced:\", replaced_text)\n",
        "\n",
        "# Split into words\n",
        "words = text.split()\n",
        "print(\"Split into words:\", words)\n",
        "\n",
        "# Join words with '-'\n",
        "joined_text = \" \".join(words)\n",
        "print(\"Joined with '-':\", joined_text)\n"
      ]
    },
    {
      "cell_type": "markdown",
      "metadata": {},
      "source": [
        "---\n",
        "\n",
        "## **3. Assignments, Operators & Expressions**\n",
        "\n",
        "1. Write a program using multiple assignment (`a, b, c = 10, 20, 30`) and print the sum.\n",
        "2. Demonstrate all arithmetic operators with two numbers `x = 15`, `y = 4`.\n",
        "3. Write a program to check if a number is greater than 10 using a **comparison operator**.\n",
        "4. Demonstrate the use of logical operators (`and`, `or`, `not`) with boolean values.\n",
        "5. Write an expression that calculates `(x + y) ** 2 / 2` for given `x` and `y`.\n"
      ]
    },
    {
      "cell_type": "code",
      "execution_count": 16,
      "metadata": {},
      "outputs": [
        {
          "name": "stdout",
          "output_type": "stream",
          "text": [
            "The sum is: 60\n"
          ]
        }
      ],
      "source": [
        "# Multiple assignment\n",
        "a, b, c = 10, 20, 30\n",
        "total = a + b + c\n",
        "print(\"The sum is:\", total)"
      ]
    },
    {
      "cell_type": "code",
      "execution_count": 17,
      "metadata": {},
      "outputs": [
        {
          "name": "stdout",
          "output_type": "stream",
          "text": [
            "x + y = 19\n",
            "x - y = 11\n",
            "x * y = 60\n",
            "x / y = 3.75\n",
            "x // y = 3\n",
            "x % y = 3\n",
            "x ** y = 50625\n"
          ]
        }
      ],
      "source": [
        "x = 15\n",
        "y = 4\n",
        "\n",
        "# Arithmetic operations\n",
        "print(\"x + y =\", x + y)   \n",
        "print(\"x - y =\", x - y)   \n",
        "print(\"x * y =\", x * y)  \n",
        "print(\"x / y =\", x / y)   \n",
        "print(\"x // y =\", x // y)\n",
        "print(\"x % y =\", x % y)\n",
        "print(\"x ** y =\", x ** y)\n"
      ]
    },
    {
      "cell_type": "code",
      "execution_count": 19,
      "metadata": {},
      "outputs": [
        {
          "name": "stdout",
          "output_type": "stream",
          "text": [
            "25 is greater than 10\n"
          ]
        }
      ],
      "source": [
        "num = int(input(\"Enter a number: \"))\n",
        "\n",
        "# Check if number is greater than 10\n",
        "if num > 10:\n",
        "    print(num, \"is greater than 10\")\n",
        "else:\n",
        "    print(num, \"is not greater than 10\")\n"
      ]
    },
    {
      "cell_type": "code",
      "execution_count": 20,
      "metadata": {},
      "outputs": [
        {
          "name": "stdout",
          "output_type": "stream",
          "text": [
            "True and True  = True\n",
            "True and False = False\n",
            "False and False = False\n",
            "\n",
            "True or True  = True\n",
            "True or False = True\n",
            "False or False = False\n",
            "\n",
            "not True  = False\n",
            "not False = True\n"
          ]
        }
      ],
      "source": [
        "# Logical AND\n",
        "print(\"True and True  =\", True and True)\n",
        "print(\"True and False =\", True and False)\n",
        "print(\"False and False =\", False and False)\n",
        "\n",
        "# Logical OR\n",
        "print(\"\\nTrue or True  =\", True or True)\n",
        "print(\"True or False =\", True or False)\n",
        "print(\"False or False =\", False or False)\n",
        "\n",
        "# Logical NOT\n",
        "print(\"\\nnot True  =\", not True)\n",
        "print(\"not False =\", not False)\n"
      ]
    },
    {
      "cell_type": "code",
      "execution_count": 21,
      "metadata": {},
      "outputs": [
        {
          "name": "stdout",
          "output_type": "stream",
          "text": [
            "Result of (x + y) ** 2 / 2 = 32.0\n"
          ]
        }
      ],
      "source": [
        "x = 5\n",
        "y = 3\n",
        "\n",
        "result = (x + y) ** 2 / 2\n",
        "\n",
        "print(\"Result of (x + y) ** 2 / 2 =\", result)\n"
      ]
    },
    {
      "cell_type": "markdown",
      "metadata": {},
      "source": [
        "---\n",
        "\n",
        "## **4. Comments**\n",
        "\n",
        "1. Write a program that calculates the area of a circle. Add **single-line comments** to explain each step.\n",
        "2. Rewrite the above program but this time use **multi-line comments** to explain the logic."
      ]
    },
    {
      "cell_type": "code",
      "execution_count": 23,
      "metadata": {},
      "outputs": [
        {
          "name": "stdout",
          "output_type": "stream",
          "text": [
            "Area of the circle: 380.132711084365\n"
          ]
        }
      ],
      "source": [
        "import math  # Import math module for pi value\n",
        "\n",
        "# Take radius as input\n",
        "radius = float(input(\"Enter the radius of the circle: \"))\n",
        "\n",
        "# Calculate area using formula: πr²\n",
        "area = math.pi * radius ** 2\n",
        "\n",
        "# Print the result\n",
        "print(\"Area of the circle:\", area)\n"
      ]
    },
    {
      "cell_type": "code",
      "execution_count": 22,
      "metadata": {},
      "outputs": [
        {
          "name": "stdout",
          "output_type": "stream",
          "text": [
            "Area of the circle: 1520.53084433746\n"
          ]
        }
      ],
      "source": [
        "import math  # Import math module for pi value\n",
        "\n",
        "\"\"\"\n",
        "This program calculates the area of a circle.\n",
        "Steps:\n",
        "1. Ask the user to enter the radius.\n",
        "2. Use the formula: Area = π × r²\n",
        "3. Display the calculated area.\n",
        "\"\"\"\n",
        "\n",
        "# Take radius as input\n",
        "radius = float(input(\"Enter the radius of the circle: \"))\n",
        "\n",
        "# Calculate area\n",
        "area = math.pi * radius ** 2\n",
        "\n",
        "# Print the result\n",
        "print(\"Area of the circle:\", area)\n"
      ]
    },
    {
      "cell_type": "markdown",
      "metadata": {},
      "source": [
        "\n",
        "---\n",
        "\n",
        "## **5. Conditional Blocks (if, elif, else)**\n",
        "\n",
        "1. Write a program to check if a number is positive, negative, or zero.\n",
        "2. Write a program to check whether a number is even or odd.\n",
        "3. Input marks and display grades using conditions:\n",
        "\n",
        "   * 90+ → Excellent\n",
        "   * 75–89 → First Class\n",
        "   * 40–74 → Pass\n",
        "   * <40 → Fail\n",
        "4. Write a program to check if a person is eligible to vote (age ≥ 18).\n",
        "5. Write a program that prints `\"Senior Citizen\"` if age ≥ 60, otherwise `\"Adult\"`.\n"
      ]
    },
    {
      "cell_type": "code",
      "execution_count": null,
      "metadata": {},
      "outputs": [
        {
          "name": "stdout",
          "output_type": "stream",
          "text": [
            "22 is Positive\n"
          ]
        }
      ],
      "source": [
        "# positive or negative\n",
        "num = int(input(\"Enter a number: \"))\n",
        "\n",
        "if num > 0:\n",
        "    print(num, \"is Positive\")\n",
        "elif num < 0:\n",
        "    print(num, \"is Negative\")\n",
        "else:\n",
        "    print(\"The number is Zero\")\n"
      ]
    },
    {
      "cell_type": "code",
      "execution_count": null,
      "metadata": {},
      "outputs": [
        {
          "name": "stdout",
          "output_type": "stream",
          "text": [
            "3 is Odd\n"
          ]
        }
      ],
      "source": [
        "# even or odd\n",
        "num = int(input(\"Enter a number: \"))\n",
        "\n",
        "if num % 2 == 0:\n",
        "    print(num, \"is Even\")\n",
        "else:\n",
        "    print(num, \"is Odd\")\n"
      ]
    },
    {
      "cell_type": "code",
      "execution_count": 26,
      "metadata": {},
      "outputs": [
        {
          "name": "stdout",
          "output_type": "stream",
          "text": [
            "Grade: Fail\n"
          ]
        }
      ],
      "source": [
        "# marks input and give grades\n",
        "marks = int(input(\"Enter marks: \"))\n",
        "\n",
        "if marks >= 90:\n",
        "    print(\"Grade: Excellent\")\n",
        "elif marks >= 75:\n",
        "    print(\"Grade: First Class\")\n",
        "elif marks >= 40:\n",
        "    print(\"Grade: Pass\")\n",
        "else:\n",
        "    print(\"Grade: Fail\")\n"
      ]
    },
    {
      "cell_type": "code",
      "execution_count": 27,
      "metadata": {},
      "outputs": [
        {
          "name": "stdout",
          "output_type": "stream",
          "text": [
            "Eligible to vote\n"
          ]
        }
      ],
      "source": [
        "# if else\n",
        "age = int(input(\"Enter your age: \"))\n",
        "\n",
        "if age >= 18:\n",
        "    print(\"Eligible to vote\")\n",
        "else:\n",
        "    print(\"Not eligible to vote\")\n"
      ]
    },
    {
      "cell_type": "code",
      "execution_count": 28,
      "metadata": {},
      "outputs": [
        {
          "name": "stdout",
          "output_type": "stream",
          "text": [
            "Adult\n"
          ]
        }
      ],
      "source": [
        "# senior citizen check\n",
        "age = int(input(\"Enter your age: \"))\n",
        "\n",
        "if age >= 60:\n",
        "    print(\"Senior Citizen\")\n",
        "else:\n",
        "    print(\"Adult\")\n"
      ]
    },
    {
      "cell_type": "markdown",
      "metadata": {},
      "source": [
        "\n",
        "\n",
        "\n",
        "\n",
        "## **6. For Loop & Range**\n",
        "\n",
        "1. Write a program to print numbers from 1 to 10 using a `for` loop.\n",
        "2. Write a program to print the multiplication table of a given number using a loop.\n",
        "3. Write a program that prints all even numbers from 2 to 20 using `range()`.\n",
        "4. Write a program to display characters of the string `\"PYTHON\"` one by one using a loop.\n",
        "5. Write a program to count down from 10 to 1 using `range(start, stop, step)`.\n",
        "\n"
      ]
    },
    {
      "cell_type": "code",
      "execution_count": 29,
      "metadata": {},
      "outputs": [
        {
          "name": "stdout",
          "output_type": "stream",
          "text": [
            "1\n",
            "2\n",
            "3\n",
            "4\n",
            "5\n",
            "6\n",
            "7\n",
            "8\n",
            "9\n",
            "10\n"
          ]
        }
      ],
      "source": [
        "#for loop - print numbers from 1 to 10\n",
        "for i in range(1, 11):\n",
        "    print(i)"
      ]
    },
    {
      "cell_type": "code",
      "execution_count": 30,
      "metadata": {},
      "outputs": [
        {
          "name": "stdout",
          "output_type": "stream",
          "text": [
            "5 x 1 = 5\n",
            "5 x 2 = 10\n",
            "5 x 3 = 15\n",
            "5 x 4 = 20\n",
            "5 x 5 = 25\n",
            "5 x 6 = 30\n",
            "5 x 7 = 35\n",
            "5 x 8 = 40\n",
            "5 x 9 = 45\n",
            "5 x 10 = 50\n"
          ]
        }
      ],
      "source": [
        "#multiplication table\n",
        "num = int(input(\"Enter a number: \"))\n",
        "\n",
        "for i in range(1, 11):\n",
        "    print(num, \"x\", i, \"=\", num * i)\n"
      ]
    },
    {
      "cell_type": "code",
      "execution_count": 31,
      "metadata": {},
      "outputs": [
        {
          "name": "stdout",
          "output_type": "stream",
          "text": [
            "2\n",
            "4\n",
            "6\n",
            "8\n",
            "10\n",
            "12\n",
            "14\n",
            "16\n",
            "18\n",
            "20\n"
          ]
        }
      ],
      "source": [
        "# print all even numbers \n",
        "for i in range(2, 21, 2):\n",
        "    print(i)\n"
      ]
    },
    {
      "cell_type": "code",
      "execution_count": 32,
      "metadata": {},
      "outputs": [
        {
          "name": "stdout",
          "output_type": "stream",
          "text": [
            "P\n",
            "Y\n",
            "T\n",
            "H\n",
            "O\n",
            "N\n"
          ]
        }
      ],
      "source": [
        "#display each character\n",
        "text = \"PYTHON\"\n",
        "\n",
        "for ch in text:\n",
        "    print(ch)\n"
      ]
    },
    {
      "cell_type": "code",
      "execution_count": 34,
      "metadata": {},
      "outputs": [
        {
          "name": "stdout",
          "output_type": "stream",
          "text": [
            "10\n",
            "9\n",
            "8\n",
            "7\n",
            "6\n",
            "5\n",
            "4\n",
            "3\n",
            "2\n",
            "1\n"
          ]
        }
      ],
      "source": [
        "#Countdown from 10 to 1 using range(start, stop, step)\n",
        "for i in range(10, 0, -1):\n",
        "    print(i)\n"
      ]
    },
    {
      "cell_type": "markdown",
      "metadata": {},
      "source": [
        "---\n",
        "\n",
        "## **7. While Loop**\n",
        "\n",
        "1. Write a program to print numbers from 1 to 5 using a `while` loop.\n",
        "2. Write a program to calculate the sum of numbers from 1 to 100 using a `while` loop.\n",
        "3. Write a program to keep asking the user for a password until they enter `\"python123\"`.\n",
        "4. Write a program to print the first 5 factorial numbers using a `while` loop.\n",
        "5. Write a program to reverse a number using `while` loop (e.g., 123 → 321).\n",
        "\n"
      ]
    },
    {
      "cell_type": "code",
      "execution_count": 35,
      "metadata": {},
      "outputs": [
        {
          "name": "stdout",
          "output_type": "stream",
          "text": [
            "1\n",
            "2\n",
            "3\n",
            "4\n",
            "5\n"
          ]
        }
      ],
      "source": [
        "i = 1\n",
        "while i <= 5:\n",
        "    print(i)\n",
        "    i += 1\n"
      ]
    },
    {
      "cell_type": "code",
      "execution_count": null,
      "metadata": {},
      "outputs": [],
      "source": []
    },
    {
      "cell_type": "code",
      "execution_count": null,
      "metadata": {},
      "outputs": [],
      "source": []
    },
    {
      "cell_type": "code",
      "execution_count": null,
      "metadata": {},
      "outputs": [],
      "source": []
    },
    {
      "cell_type": "code",
      "execution_count": null,
      "metadata": {},
      "outputs": [],
      "source": []
    },
    {
      "cell_type": "markdown",
      "metadata": {},
      "source": [
        "\n",
        "\n",
        "---\n",
        "\n",
        "## **8. Loop Manipulation (Pass, Continue, Break, Else)**\n",
        "\n",
        "1. Write a program using a `for` loop where one iteration uses `pass`.\n",
        "2. Write a program that prints numbers from 1 to 10 but **skips even numbers** using `continue`.\n",
        "3. Write a program that prints numbers from 1 onwards but stops the loop when the number reaches 7 using `break`.\n",
        "4. Write a program to search for an element in a list. If found, print `\"Found\"` and break. Otherwise, use `else` to print `\"Not Found\"`.\n",
        "5. Write a login program using a `while` loop: allow maximum 3 attempts, if password is correct → print `\"Login Successful\"`, otherwise `\"Account Blocked\"`.\n",
        "\n",
        "---\n"
      ]
    },
    {
      "cell_type": "code",
      "execution_count": null,
      "metadata": {
        "id": "UdIvLIaE7QnO"
      },
      "outputs": [],
      "source": []
    },
    {
      "cell_type": "code",
      "execution_count": null,
      "metadata": {
        "id": "_Va1f3Uw7OeN"
      },
      "outputs": [],
      "source": []
    }
  ],
  "metadata": {
    "colab": {
      "provenance": []
    },
    "kernelspec": {
      "display_name": ".venv",
      "language": "python",
      "name": "python3"
    },
    "language_info": {
      "codemirror_mode": {
        "name": "ipython",
        "version": 3
      },
      "file_extension": ".py",
      "mimetype": "text/x-python",
      "name": "python",
      "nbconvert_exporter": "python",
      "pygments_lexer": "ipython3",
      "version": "3.13.3"
    }
  },
  "nbformat": 4,
  "nbformat_minor": 0
}
